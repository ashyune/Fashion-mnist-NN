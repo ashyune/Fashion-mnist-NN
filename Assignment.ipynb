{
 "cells": [
  {
   "cell_type": "code",
   "execution_count": 49,
   "id": "3ebb8387-88ac-41fc-83d7-8caa968e3f87",
   "metadata": {},
   "outputs": [],
   "source": [
    "import numpy as np\n",
    "import matplotlib.pyplot as plt\n",
    "from tensorflow.keras.datasets import fashion_mnist as fm"
   ]
  },
  {
   "cell_type": "code",
   "execution_count": 50,
   "id": "5aab644f-dd40-4a6f-966d-743ea9266a76",
   "metadata": {},
   "outputs": [],
   "source": [
    "(x_train, y_train), (x_test, y_test) = fm.load_data()"
   ]
  },
  {
   "cell_type": "code",
   "execution_count": 51,
   "id": "50ae1faa-cb7a-42de-a1ae-70b62eac9b53",
   "metadata": {},
   "outputs": [],
   "source": [
    "assert x_train.shape == (60000, 28, 28)\n",
    "assert x_test.shape == (10000, 28, 28)\n",
    "assert y_train.shape == (60000,)\n",
    "assert y_test.shape == (10000,)"
   ]
  },
  {
   "cell_type": "code",
   "execution_count": 52,
   "id": "c982c20a-53c8-41d6-964e-ea7f7a4dcb8c",
   "metadata": {},
   "outputs": [],
   "source": [
    "x_train = x_train.reshape(x_train.shape[0], -1) / 255.0\n",
    "x_test = x_test.reshape(x_test.shape[0], -1) / 255.0"
   ]
  },
  {
   "cell_type": "code",
   "execution_count": 53,
   "id": "358c3ad8-2898-41d9-b09e-053394eb5fac",
   "metadata": {},
   "outputs": [],
   "source": [
    "def one_hot_encode(y, num_classes):\n",
    "    return np.eye(num_classes)[y]"
   ]
  },
  {
   "cell_type": "code",
   "execution_count": 54,
   "id": "ee50e656-af01-4742-ab9c-fcda0501ad13",
   "metadata": {},
   "outputs": [],
   "source": [
    "y_train_encoded = one_hot_encode(y_train, 10)\n",
    "y_test_encoded = one_hot_encode(y_test, 10)"
   ]
  },
  {
   "cell_type": "code",
   "execution_count": 57,
   "id": "8ff4dfff-8be2-45da-be4a-5af44c8c2885",
   "metadata": {},
   "outputs": [
    {
     "name": "stdout",
     "output_type": "stream",
     "text": [
      "Epoch 0, Loss: 2.3168\n",
      "Epoch 10, Loss: 2.2301\n",
      "Epoch 20, Loss: 2.0053\n",
      "Epoch 30, Loss: 1.6945\n",
      "Epoch 40, Loss: 1.4763\n",
      "Epoch 50, Loss: 1.3260\n",
      "Epoch 60, Loss: 1.2124\n",
      "Epoch 70, Loss: 1.1228\n",
      "Epoch 80, Loss: 1.0513\n",
      "Epoch 90, Loss: 0.9935\n",
      "Epoch 100, Loss: 0.9464\n",
      "Epoch 110, Loss: 0.9076\n",
      "Epoch 120, Loss: 0.8753\n",
      "Epoch 130, Loss: 0.8479\n",
      "Epoch 140, Loss: 0.8244\n",
      "Epoch 150, Loss: 0.8038\n",
      "Epoch 160, Loss: 0.7855\n",
      "Epoch 170, Loss: 0.7690\n",
      "Epoch 180, Loss: 0.7540\n",
      "Epoch 190, Loss: 0.7403\n",
      "Epoch 200, Loss: 0.7276\n",
      "Epoch 210, Loss: 0.7158\n",
      "Epoch 220, Loss: 0.7049\n",
      "Epoch 230, Loss: 0.6946\n",
      "Epoch 240, Loss: 0.6851\n",
      "Epoch 250, Loss: 0.6762\n",
      "Epoch 260, Loss: 0.6678\n",
      "Epoch 270, Loss: 0.6600\n",
      "Epoch 280, Loss: 0.6526\n",
      "Epoch 290, Loss: 0.6456\n",
      "Epoch 300, Loss: 0.6390\n",
      "Epoch 310, Loss: 0.6328\n",
      "Epoch 320, Loss: 0.6270\n",
      "Epoch 330, Loss: 0.6214\n",
      "Epoch 340, Loss: 0.6162\n",
      "Epoch 350, Loss: 0.6112\n",
      "Epoch 360, Loss: 0.6065\n",
      "Epoch 370, Loss: 0.6020\n",
      "Epoch 380, Loss: 0.5977\n",
      "Epoch 390, Loss: 0.5936\n",
      "Epoch 400, Loss: 0.5897\n",
      "Epoch 410, Loss: 0.5860\n",
      "Epoch 420, Loss: 0.5825\n",
      "Epoch 430, Loss: 0.5791\n",
      "Epoch 440, Loss: 0.5759\n",
      "Epoch 450, Loss: 0.5728\n",
      "Epoch 460, Loss: 0.5699\n",
      "Epoch 470, Loss: 0.5671\n",
      "Epoch 480, Loss: 0.5644\n",
      "Epoch 490, Loss: 0.5618\n",
      "Test Accuracy: 81.0500\n"
     ]
    }
   ],
   "source": [
    "# Let's modify the neural network code to add the comparison between L1 and L2 regularization.\n",
    "\n",
    "from matplotlib import pyplot as plt\n",
    "import numpy as np\n",
    "\n",
    "class NeuralNetwork:\n",
    "    def __init__(self, input_size, hidden_size, output_size, learning_rate=0.1, l2_lambda=0.001):\n",
    "        self.W1 = np.random.randn(input_size, hidden_size) * 0.01\n",
    "        self.b1 = np.zeros((1, hidden_size))\n",
    "        self.W2 = np.random.randn(hidden_size, output_size) * 0.01\n",
    "        self.b2 = np.zeros((1, output_size))\n",
    "        self.learning_rate = learning_rate\n",
    "        self.l2_lambda = l2_lambda\n",
    "        self.loss_history = []\n",
    "\n",
    "    def softmax(self, x):\n",
    "        exp_x = np.exp(x - np.max(x, axis=1, keepdims=True))\n",
    "        return exp_x / (np.sum(exp_x, axis=1, keepdims=True) + 1e-10)\n",
    "\n",
    "    def forward(self, X):\n",
    "        self.z1 = np.dot(X, self.W1) + self.b1\n",
    "        self.a1 = np.tanh(self.z1)\n",
    "        self.z2 = np.dot(self.a1, self.W2) + self.b2\n",
    "        self.a2 = self.softmax(self.z2)\n",
    "        return self.a2\n",
    "\n",
    "    def backward(self, X, y, output):\n",
    "        m = X.shape[0]\n",
    "        output_error = output - y\n",
    "        hidden_error = np.dot(output_error, self.W2.T) * (1 - np.tanh(self.z1) ** 2)\n",
    "\n",
    "        dW2 = np.dot(self.a1.T, output_error) / m\n",
    "        db2 = np.sum(output_error, axis=0, keepdims=True) / m\n",
    "        dW1 = np.dot(X.T, hidden_error) / m\n",
    "        db1 = np.sum(hidden_error, axis=0, keepdims=True) / m\n",
    "\n",
    "        # L2 regularization\n",
    "        dW1 += self.l2_lambda * self.W1\n",
    "        dW2 += self.l2_lambda * self.W2\n",
    "\n",
    "        self.W1 -= self.learning_rate * dW1\n",
    "        self.b1 -= self.learning_rate * db1\n",
    "        self.W2 -= self.learning_rate * dW2\n",
    "        self.b2 -= self.learning_rate * db2\n",
    "\n",
    "    def train(self, X, y, epochs, regularization_type=\"L2\"):\n",
    "        for epoch in range(epochs):\n",
    "            output = self.forward(X)\n",
    "            self.backward(X, y, output)\n",
    "\n",
    "            # Calculate loss with regularization penalties\n",
    "            penalty = self.l2_lambda * (np.sum(np.square(self.W1)) + np.sum(np.square(self.W2)))\n",
    "\n",
    "            loss = -np.mean(np.sum(y * np.log(output + 1e-10), axis=1)) + penalty\n",
    "            self.loss_history.append(loss) \n",
    "\n",
    "            if epoch % 10 == 0:\n",
    "                print(f\"Epoch {epoch}, Loss: {loss:.4f}\")\n",
    "\n",
    "    def predict(self, X):\n",
    "        output = self.forward(X)\n",
    "        return np.argmax(output, axis=1)\n",
    "\n",
    "\n",
    "nn = NeuralNetwork(input_size=784, hidden_size=128, output_size=10, learning_rate=0.1, l2_lambda=0.001)\n",
    "\n",
    "epochs = 500\n",
    "\n",
    "nn.train(x_train, y_train_encoded, epochs=epochs, regularization_type=\"L2\")\n",
    "\n",
    "predictions = nn.predict(x_test)\n",
    "accuracy = np.mean(predictions == y_test)\n",
    "print(f\"Test Accuracy: {accuracy*100:.4f}\")"
   ]
  },
  {
   "cell_type": "code",
   "execution_count": 58,
   "id": "54e2c394-f38d-4a93-bf4c-6a632605f818",
   "metadata": {},
   "outputs": [
    {
     "data": {
      "image/png": "[encoded data removed]",
      "text/plain": [
       "<Figure size 1000x500 with 10 Axes>"
      ]
     },
     "metadata": {},
     "output_type": "display_data"
    }
   ],
   "source": [
    "# Visualize some predictions\n",
    "def plot_predictions(X, y_true, y_pred, num_images=10):\n",
    "    plt.figure(figsize=(10, 5))\n",
    "    for i in range(num_images):\n",
    "        plt.subplot(2, 5, i + 1)\n",
    "        plt.imshow(X[i].reshape(28, 28), cmap='gray')\n",
    "        plt.title(f'True: {y_true[i]}\\nPred: {y_pred[i]}')\n",
    "        plt.axis('off')\n",
    "    plt.tight_layout()\n",
    "    plt.show()\n",
    "\n",
    "# Visualize predictions on test set\n",
    "plot_predictions(x_test, y_test, predictions)"
   ]
  },
  {
   "cell_type": "code",
   "execution_count": null,
   "id": "d70fbafe-3e36-4fff-9633-eb3c4f578b59",
   "metadata": {},
   "outputs": [],
   "source": []
  }
 ],
 "metadata": {
  "kernelspec": {
   "display_name": "Python 3 (ipykernel)",
   "language": "python",
   "name": "python3"
  },
  "language_info": {
   "codemirror_mode": {
    "name": "ipython",
    "version": 3
   },
   "file_extension": ".py",
   "mimetype": "text/x-python",
   "name": "python",
   "nbconvert_exporter": "python",
   "pygments_lexer": "ipython3",
   "version": "3.12.2"
  }
 },
 "nbformat": 4,
 "nbformat_minor": 5
}
